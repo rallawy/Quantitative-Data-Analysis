{
 "cells": [
  {
   "cell_type": "markdown",
   "metadata": {
    "id": "aJ3AvU6aabQj"
   },
   "source": [
    "# Quantitative Data Analysis\n",
    "\n"
   ]
  },
  {
   "cell_type": "code",
   "execution_count": 3,
   "metadata": {
    "id": "8VitD_JcabQn",
    "jupyter": {
     "outputs_hidden": true
    }
   },
   "outputs": [],
   "source": [
    "# libraries that we need\n",
    "import pandas as pd\n",
    "import nltk\n",
    "from nltk.text import Text\n",
    "from nltk import ngrams\n",
    "from nltk.tokenize import word_tokenize\n",
    "from nltk.tokenize import TweetTokenizer\n",
    "import numpy as np\n",
    "from scipy.stats import chi2_contingency\n",
    "import csv"
   ]
  },
  {
   "cell_type": "code",
   "execution_count": 4,
   "metadata": {
    "id": "e5HjhpTTabQp",
    "jupyter": {
     "outputs_hidden": true
    }
   },
   "outputs": [],
   "source": [
    "# LOAD THE INPUT FILE DH_CollectingData2022_review.tsv \n",
    "input_file = 'phrases_dataset.tsv'"
   ]
  },
  {
   "cell_type": "markdown",
   "metadata": {
    "id": "CBEpypvzabQq"
   },
   "source": [
    "## Exploring the dataset.\n"
   ]
  },
  {
   "cell_type": "code",
   "execution_count": 5,
   "metadata": {
    "colab": {
     "base_uri": "https://localhost:8080/",
     "height": 424
    },
    "id": "tL-n9BXcabQr",
    "jupyter": {
     "outputs_hidden": true
    },
    "outputId": "e81b7a89-e821-46d2-ebef-8603b5785057"
   },
   "outputs": [
    {
     "data": {
      "text/html": [
       "<div>\n",
       "<style scoped>\n",
       "    .dataframe tbody tr th:only-of-type {\n",
       "        vertical-align: middle;\n",
       "    }\n",
       "\n",
       "    .dataframe tbody tr th {\n",
       "        vertical-align: top;\n",
       "    }\n",
       "\n",
       "    .dataframe thead th {\n",
       "        text-align: right;\n",
       "    }\n",
       "</style>\n",
       "<table border=\"1\" class=\"dataframe\">\n",
       "  <thead>\n",
       "    <tr style=\"text-align: right;\">\n",
       "      <th></th>\n",
       "      <th>sentence</th>\n",
       "      <th>score</th>\n",
       "    </tr>\n",
       "  </thead>\n",
       "  <tbody>\n",
       "    <tr>\n",
       "      <th>0</th>\n",
       "      <td>For Nik, he only wants to silence the cacophon...</td>\n",
       "      <td>0.0</td>\n",
       "    </tr>\n",
       "    <tr>\n",
       "      <th>1</th>\n",
       "      <td>\"I can play this two ways</td>\n",
       "      <td>0.0</td>\n",
       "    </tr>\n",
       "    <tr>\n",
       "      <th>2</th>\n",
       "      <td>Mild, because it isn't conclusive, and doesn't...</td>\n",
       "      <td>-1.0</td>\n",
       "    </tr>\n",
       "    <tr>\n",
       "      <th>3</th>\n",
       "      <td>You can also get some more information about t...</td>\n",
       "      <td>0.0</td>\n",
       "    </tr>\n",
       "    <tr>\n",
       "      <th>4</th>\n",
       "      <td>Soon, Hero, who has never had friends, is thru...</td>\n",
       "      <td>0.0</td>\n",
       "    </tr>\n",
       "    <tr>\n",
       "      <th>...</th>\n",
       "      <td>...</td>\n",
       "      <td>...</td>\n",
       "    </tr>\n",
       "    <tr>\n",
       "      <th>385</th>\n",
       "      <td>August is torn by his actions but he absolutel...</td>\n",
       "      <td>0.0</td>\n",
       "    </tr>\n",
       "    <tr>\n",
       "      <th>386</th>\n",
       "      <td>Heroine Elise Benton is witty in the present d...</td>\n",
       "      <td>0.0</td>\n",
       "    </tr>\n",
       "    <tr>\n",
       "      <th>387</th>\n",
       "      <td>I am glad there will be a part three</td>\n",
       "      <td>1.0</td>\n",
       "    </tr>\n",
       "    <tr>\n",
       "      <th>388</th>\n",
       "      <td>Sometimes while they were in a lesson, the wol...</td>\n",
       "      <td>0.0</td>\n",
       "    </tr>\n",
       "    <tr>\n",
       "      <th>389</th>\n",
       "      <td>I remained involved</td>\n",
       "      <td>1.0</td>\n",
       "    </tr>\n",
       "  </tbody>\n",
       "</table>\n",
       "<p>390 rows × 2 columns</p>\n",
       "</div>"
      ],
      "text/plain": [
       "                                              sentence  score\n",
       "0    For Nik, he only wants to silence the cacophon...    0.0\n",
       "1                            \"I can play this two ways    0.0\n",
       "2    Mild, because it isn't conclusive, and doesn't...   -1.0\n",
       "3    You can also get some more information about t...    0.0\n",
       "4    Soon, Hero, who has never had friends, is thru...    0.0\n",
       "..                                                 ...    ...\n",
       "385  August is torn by his actions but he absolutel...    0.0\n",
       "386  Heroine Elise Benton is witty in the present d...    0.0\n",
       "387               I am glad there will be a part three    1.0\n",
       "388  Sometimes while they were in a lesson, the wol...    0.0\n",
       "389                                I remained involved    1.0\n",
       "\n",
       "[390 rows x 2 columns]"
      ]
     },
     "execution_count": 5,
     "metadata": {},
     "output_type": "execute_result"
    }
   ],
   "source": [
    "# opening the file using pandas and storing it into a dataframe \n",
    "dataset = pd.read_csv(input_file, delimiter=\"\\t\", quoting=csv.QUOTE_NONE, header=None)\n",
    "dataset.columns =['sentence', 'score']\n",
    "dataset"
   ]
  },
  {
   "cell_type": "code",
   "execution_count": 20,
   "metadata": {
    "colab": {
     "base_uri": "https://localhost:8080/"
    },
    "id": "cFfQsLiOabQs",
    "jupyter": {
     "outputs_hidden": true
    },
    "outputId": "6fe9b678-2dcb-4dac-ccb0-9c62e11b807e"
   },
   "outputs": [
    {
     "name": "stdout",
     "output_type": "stream",
     "text": [
      "Index(['sentence', 'score'], dtype='object')\n"
     ]
    }
   ],
   "source": [
    "#printing column names\n",
    "#column names \"Sentence\" and \"Score\" were added to the tsv file to deffirentiate between the two columns\n",
    "#otherwise the file wasn't loading correctly \n",
    "print(dataset.columns)\n"
   ]
  },
  {
   "cell_type": "code",
   "execution_count": 21,
   "metadata": {
    "id": "EtR1P_EJabQt"
   },
   "outputs": [],
   "source": [
    "#storing both columns in a dataframe \n",
    "target_data = dataset[['sentence','score']]"
   ]
  },
  {
   "cell_type": "markdown",
   "metadata": {
    "id": "yhy3q1nvabQt"
   },
   "source": [
    "## The column \"Score\" shows numbers between (-1 to 1). \n",
    "-1 = negative emotion,  0 = neutral emotion, 1 = positive emotion \n",
    "  \n",
    "\n"
   ]
  },
  {
   "cell_type": "code",
   "execution_count": 22,
   "metadata": {
    "colab": {
     "base_uri": "https://localhost:8080/",
     "height": 424
    },
    "id": "jcqkJNV8abQu",
    "jupyter": {
     "outputs_hidden": true
    },
    "outputId": "5a64e5a0-ff91-4c09-f4c8-86d5e4273df7"
   },
   "outputs": [
    {
     "data": {
      "text/html": [
       "<div>\n",
       "<style scoped>\n",
       "    .dataframe tbody tr th:only-of-type {\n",
       "        vertical-align: middle;\n",
       "    }\n",
       "\n",
       "    .dataframe tbody tr th {\n",
       "        vertical-align: top;\n",
       "    }\n",
       "\n",
       "    .dataframe thead th {\n",
       "        text-align: right;\n",
       "    }\n",
       "</style>\n",
       "<table border=\"1\" class=\"dataframe\">\n",
       "  <thead>\n",
       "    <tr style=\"text-align: right;\">\n",
       "      <th></th>\n",
       "      <th>sentence</th>\n",
       "      <th>score</th>\n",
       "    </tr>\n",
       "  </thead>\n",
       "  <tbody>\n",
       "    <tr>\n",
       "      <th>5</th>\n",
       "      <td>I did like Steven (or Stephen? I listened to t...</td>\n",
       "      <td>1.0</td>\n",
       "    </tr>\n",
       "    <tr>\n",
       "      <th>6</th>\n",
       "      <td>The plot is quick moving and the action is vio...</td>\n",
       "      <td>1.0</td>\n",
       "    </tr>\n",
       "    <tr>\n",
       "      <th>7</th>\n",
       "      <td>Loved everything about this book</td>\n",
       "      <td>1.0</td>\n",
       "    </tr>\n",
       "    <tr>\n",
       "      <th>9</th>\n",
       "      <td>Great, quick read</td>\n",
       "      <td>1.0</td>\n",
       "    </tr>\n",
       "    <tr>\n",
       "      <th>10</th>\n",
       "      <td>Although there isn't character development, as...</td>\n",
       "      <td>1.0</td>\n",
       "    </tr>\n",
       "    <tr>\n",
       "      <th>...</th>\n",
       "      <td>...</td>\n",
       "      <td>...</td>\n",
       "    </tr>\n",
       "    <tr>\n",
       "      <th>374</th>\n",
       "      <td>Good little read, quirky meets mystery and the...</td>\n",
       "      <td>1.0</td>\n",
       "    </tr>\n",
       "    <tr>\n",
       "      <th>380</th>\n",
       "      <td>Coming off of Paula Hawkins's new release, I c...</td>\n",
       "      <td>1.0</td>\n",
       "    </tr>\n",
       "    <tr>\n",
       "      <th>382</th>\n",
       "      <td>He's able to take important themes and write a...</td>\n",
       "      <td>1.0</td>\n",
       "    </tr>\n",
       "    <tr>\n",
       "      <th>387</th>\n",
       "      <td>I am glad there will be a part three</td>\n",
       "      <td>1.0</td>\n",
       "    </tr>\n",
       "    <tr>\n",
       "      <th>389</th>\n",
       "      <td>I remained involved</td>\n",
       "      <td>1.0</td>\n",
       "    </tr>\n",
       "  </tbody>\n",
       "</table>\n",
       "<p>180 rows × 2 columns</p>\n",
       "</div>"
      ],
      "text/plain": [
       "                                              sentence  score\n",
       "5    I did like Steven (or Stephen? I listened to t...    1.0\n",
       "6    The plot is quick moving and the action is vio...    1.0\n",
       "7                     Loved everything about this book    1.0\n",
       "9                                    Great, quick read    1.0\n",
       "10   Although there isn't character development, as...    1.0\n",
       "..                                                 ...    ...\n",
       "374  Good little read, quirky meets mystery and the...    1.0\n",
       "380  Coming off of Paula Hawkins's new release, I c...    1.0\n",
       "382  He's able to take important themes and write a...    1.0\n",
       "387               I am glad there will be a part three    1.0\n",
       "389                                I remained involved    1.0\n",
       "\n",
       "[180 rows x 2 columns]"
      ]
     },
     "execution_count": 22,
     "metadata": {},
     "output_type": "execute_result"
    }
   ],
   "source": [
    "#Count how many sentences with positive emotions\n",
    "positive_emotion = dataset[(dataset.score == 1)] \n",
    "positive_emotion "
   ]
  },
  {
   "cell_type": "code",
   "execution_count": 23,
   "metadata": {
    "colab": {
     "base_uri": "https://localhost:8080/",
     "height": 424
    },
    "id": "aL0VX0aNabQv",
    "outputId": "3eb73441-21e2-445b-fb3c-878bab088af6"
   },
   "outputs": [
    {
     "data": {
      "text/html": [
       "<div>\n",
       "<style scoped>\n",
       "    .dataframe tbody tr th:only-of-type {\n",
       "        vertical-align: middle;\n",
       "    }\n",
       "\n",
       "    .dataframe tbody tr th {\n",
       "        vertical-align: top;\n",
       "    }\n",
       "\n",
       "    .dataframe thead th {\n",
       "        text-align: right;\n",
       "    }\n",
       "</style>\n",
       "<table border=\"1\" class=\"dataframe\">\n",
       "  <thead>\n",
       "    <tr style=\"text-align: right;\">\n",
       "      <th></th>\n",
       "      <th>sentence</th>\n",
       "      <th>score</th>\n",
       "    </tr>\n",
       "  </thead>\n",
       "  <tbody>\n",
       "    <tr>\n",
       "      <th>2</th>\n",
       "      <td>Mild, because it isn't conclusive, and doesn't...</td>\n",
       "      <td>-1.0</td>\n",
       "    </tr>\n",
       "    <tr>\n",
       "      <th>12</th>\n",
       "      <td>Going in I really liked it but unfortunately l...</td>\n",
       "      <td>-1.0</td>\n",
       "    </tr>\n",
       "    <tr>\n",
       "      <th>14</th>\n",
       "      <td>I'm not giving this 5 stars because the big re...</td>\n",
       "      <td>-1.0</td>\n",
       "    </tr>\n",
       "    <tr>\n",
       "      <th>17</th>\n",
       "      <td>eh I hate how the author made Duke from a nice...</td>\n",
       "      <td>-1.0</td>\n",
       "    </tr>\n",
       "    <tr>\n",
       "      <th>21</th>\n",
       "      <td>I guess I didn't track this on goodreads when ...</td>\n",
       "      <td>-1.0</td>\n",
       "    </tr>\n",
       "    <tr>\n",
       "      <th>...</th>\n",
       "      <td>...</td>\n",
       "      <td>...</td>\n",
       "    </tr>\n",
       "    <tr>\n",
       "      <th>346</th>\n",
       "      <td>And by the time I got to the conclusions, I di...</td>\n",
       "      <td>-1.0</td>\n",
       "    </tr>\n",
       "    <tr>\n",
       "      <th>352</th>\n",
       "      <td>These writing qualities may echo her very expe...</td>\n",
       "      <td>-1.0</td>\n",
       "    </tr>\n",
       "    <tr>\n",
       "      <th>376</th>\n",
       "      <td>But it felt forced in other places and the pre...</td>\n",
       "      <td>-1.0</td>\n",
       "    </tr>\n",
       "    <tr>\n",
       "      <th>379</th>\n",
       "      <td>Certain revelations from the first book are la...</td>\n",
       "      <td>-1.0</td>\n",
       "    </tr>\n",
       "    <tr>\n",
       "      <th>381</th>\n",
       "      <td>Unfortunately, A Cast of Killers does it littl...</td>\n",
       "      <td>-1.0</td>\n",
       "    </tr>\n",
       "  </tbody>\n",
       "</table>\n",
       "<p>62 rows × 2 columns</p>\n",
       "</div>"
      ],
      "text/plain": [
       "                                              sentence  score\n",
       "2    Mild, because it isn't conclusive, and doesn't...   -1.0\n",
       "12   Going in I really liked it but unfortunately l...   -1.0\n",
       "14   I'm not giving this 5 stars because the big re...   -1.0\n",
       "17   eh I hate how the author made Duke from a nice...   -1.0\n",
       "21   I guess I didn't track this on goodreads when ...   -1.0\n",
       "..                                                 ...    ...\n",
       "346  And by the time I got to the conclusions, I di...   -1.0\n",
       "352  These writing qualities may echo her very expe...   -1.0\n",
       "376  But it felt forced in other places and the pre...   -1.0\n",
       "379  Certain revelations from the first book are la...   -1.0\n",
       "381  Unfortunately, A Cast of Killers does it littl...   -1.0\n",
       "\n",
       "[62 rows x 2 columns]"
      ]
     },
     "execution_count": 23,
     "metadata": {},
     "output_type": "execute_result"
    }
   ],
   "source": [
    "#Count how many sentences with negative emotions\n",
    "negative_emotion = dataset[(dataset.score == -1)] \n",
    "negative_emotion"
   ]
  },
  {
   "cell_type": "code",
   "execution_count": 24,
   "metadata": {
    "colab": {
     "base_uri": "https://localhost:8080/",
     "height": 424
    },
    "id": "CGeqizfiabQw",
    "outputId": "4fedde03-7f9b-47af-8521-880c86dab1a5"
   },
   "outputs": [
    {
     "data": {
      "text/html": [
       "<div>\n",
       "<style scoped>\n",
       "    .dataframe tbody tr th:only-of-type {\n",
       "        vertical-align: middle;\n",
       "    }\n",
       "\n",
       "    .dataframe tbody tr th {\n",
       "        vertical-align: top;\n",
       "    }\n",
       "\n",
       "    .dataframe thead th {\n",
       "        text-align: right;\n",
       "    }\n",
       "</style>\n",
       "<table border=\"1\" class=\"dataframe\">\n",
       "  <thead>\n",
       "    <tr style=\"text-align: right;\">\n",
       "      <th></th>\n",
       "      <th>sentence</th>\n",
       "      <th>score</th>\n",
       "    </tr>\n",
       "  </thead>\n",
       "  <tbody>\n",
       "    <tr>\n",
       "      <th>0</th>\n",
       "      <td>For Nik, he only wants to silence the cacophon...</td>\n",
       "      <td>0.0</td>\n",
       "    </tr>\n",
       "    <tr>\n",
       "      <th>1</th>\n",
       "      <td>\"I can play this two ways</td>\n",
       "      <td>0.0</td>\n",
       "    </tr>\n",
       "    <tr>\n",
       "      <th>3</th>\n",
       "      <td>You can also get some more information about t...</td>\n",
       "      <td>0.0</td>\n",
       "    </tr>\n",
       "    <tr>\n",
       "      <th>4</th>\n",
       "      <td>Soon, Hero, who has never had friends, is thru...</td>\n",
       "      <td>0.0</td>\n",
       "    </tr>\n",
       "    <tr>\n",
       "      <th>8</th>\n",
       "      <td>What happened to the sorceress to make her hat...</td>\n",
       "      <td>0.0</td>\n",
       "    </tr>\n",
       "    <tr>\n",
       "      <th>...</th>\n",
       "      <td>...</td>\n",
       "      <td>...</td>\n",
       "    </tr>\n",
       "    <tr>\n",
       "      <th>383</th>\n",
       "      <td>I try to say this in a way that does not defer...</td>\n",
       "      <td>0.0</td>\n",
       "    </tr>\n",
       "    <tr>\n",
       "      <th>384</th>\n",
       "      <td>Her only mother that she knew dies and her rea...</td>\n",
       "      <td>0.0</td>\n",
       "    </tr>\n",
       "    <tr>\n",
       "      <th>385</th>\n",
       "      <td>August is torn by his actions but he absolutel...</td>\n",
       "      <td>0.0</td>\n",
       "    </tr>\n",
       "    <tr>\n",
       "      <th>386</th>\n",
       "      <td>Heroine Elise Benton is witty in the present d...</td>\n",
       "      <td>0.0</td>\n",
       "    </tr>\n",
       "    <tr>\n",
       "      <th>388</th>\n",
       "      <td>Sometimes while they were in a lesson, the wol...</td>\n",
       "      <td>0.0</td>\n",
       "    </tr>\n",
       "  </tbody>\n",
       "</table>\n",
       "<p>146 rows × 2 columns</p>\n",
       "</div>"
      ],
      "text/plain": [
       "                                              sentence  score\n",
       "0    For Nik, he only wants to silence the cacophon...    0.0\n",
       "1                            \"I can play this two ways    0.0\n",
       "3    You can also get some more information about t...    0.0\n",
       "4    Soon, Hero, who has never had friends, is thru...    0.0\n",
       "8    What happened to the sorceress to make her hat...    0.0\n",
       "..                                                 ...    ...\n",
       "383  I try to say this in a way that does not defer...    0.0\n",
       "384  Her only mother that she knew dies and her rea...    0.0\n",
       "385  August is torn by his actions but he absolutel...    0.0\n",
       "386  Heroine Elise Benton is witty in the present d...    0.0\n",
       "388  Sometimes while they were in a lesson, the wol...    0.0\n",
       "\n",
       "[146 rows x 2 columns]"
      ]
     },
     "execution_count": 24,
     "metadata": {},
     "output_type": "execute_result"
    }
   ],
   "source": [
    "#Count how many sentences with neutral emotions\n",
    "neutral_emotion = dataset[(dataset.score == 0)] \n",
    "neutral_emotion "
   ]
  },
  {
   "cell_type": "markdown",
   "metadata": {},
   "source": [
    "## Task 1.1"
   ]
  },
  {
   "cell_type": "markdown",
   "metadata": {
    "id": "YLdqO-cKabQx"
   },
   "source": [
    "Formulating a hypothesis\n",
    "\n",
    "H1: Given the dataset, a possible valid hypotheis is that when the word \"love\" is used in a sentence it is associated with score of 1.0 (positive emotion) rather than it is associated with a score of -1.0 (a negative emotion).\n",
    "\n",
    "H0 = There is no difference in the presence of the word \"love\", between sentences where the score is 1.0 and sentences where the socre is -1.0."
   ]
  },
  {
   "cell_type": "markdown",
   "metadata": {
    "id": "Rivfx6EXlLws"
   },
   "source": [
    "## Tokenize sentences"
   ]
  },
  {
   "cell_type": "code",
   "execution_count": 25,
   "metadata": {
    "colab": {
     "base_uri": "https://localhost:8080/",
     "height": 424
    },
    "id": "uQVmk39MabQy",
    "outputId": "d033db6b-5408-440e-eaa5-b93cc904b87c"
   },
   "outputs": [
    {
     "data": {
      "text/html": [
       "<div>\n",
       "<style scoped>\n",
       "    .dataframe tbody tr th:only-of-type {\n",
       "        vertical-align: middle;\n",
       "    }\n",
       "\n",
       "    .dataframe tbody tr th {\n",
       "        vertical-align: top;\n",
       "    }\n",
       "\n",
       "    .dataframe thead th {\n",
       "        text-align: right;\n",
       "    }\n",
       "</style>\n",
       "<table border=\"1\" class=\"dataframe\">\n",
       "  <thead>\n",
       "    <tr style=\"text-align: right;\">\n",
       "      <th></th>\n",
       "      <th>sentence</th>\n",
       "      <th>score</th>\n",
       "      <th>tokenized_lowercase</th>\n",
       "    </tr>\n",
       "  </thead>\n",
       "  <tbody>\n",
       "    <tr>\n",
       "      <th>0</th>\n",
       "      <td>For Nik, he only wants to silence the cacophon...</td>\n",
       "      <td>0.0</td>\n",
       "      <td>[for, nik, ,, he, only, wants, to, silence, th...</td>\n",
       "    </tr>\n",
       "    <tr>\n",
       "      <th>1</th>\n",
       "      <td>\"I can play this two ways</td>\n",
       "      <td>0.0</td>\n",
       "      <td>[\", i, can, play, this, two, ways]</td>\n",
       "    </tr>\n",
       "    <tr>\n",
       "      <th>2</th>\n",
       "      <td>Mild, because it isn't conclusive, and doesn't...</td>\n",
       "      <td>-1.0</td>\n",
       "      <td>[mild, ,, because, it, isn't, conclusive, ,, a...</td>\n",
       "    </tr>\n",
       "    <tr>\n",
       "      <th>3</th>\n",
       "      <td>You can also get some more information about t...</td>\n",
       "      <td>0.0</td>\n",
       "      <td>[you, can, also, get, some, more, information,...</td>\n",
       "    </tr>\n",
       "    <tr>\n",
       "      <th>4</th>\n",
       "      <td>Soon, Hero, who has never had friends, is thru...</td>\n",
       "      <td>0.0</td>\n",
       "      <td>[soon, ,, hero, ,, who, has, never, had, frien...</td>\n",
       "    </tr>\n",
       "    <tr>\n",
       "      <th>...</th>\n",
       "      <td>...</td>\n",
       "      <td>...</td>\n",
       "      <td>...</td>\n",
       "    </tr>\n",
       "    <tr>\n",
       "      <th>385</th>\n",
       "      <td>August is torn by his actions but he absolutel...</td>\n",
       "      <td>0.0</td>\n",
       "      <td>[august, is, torn, by, his, actions, but, he, ...</td>\n",
       "    </tr>\n",
       "    <tr>\n",
       "      <th>386</th>\n",
       "      <td>Heroine Elise Benton is witty in the present d...</td>\n",
       "      <td>0.0</td>\n",
       "      <td>[heroine, elise, benton, is, witty, in, the, p...</td>\n",
       "    </tr>\n",
       "    <tr>\n",
       "      <th>387</th>\n",
       "      <td>I am glad there will be a part three</td>\n",
       "      <td>1.0</td>\n",
       "      <td>[i, am, glad, there, will, be, a, part, three]</td>\n",
       "    </tr>\n",
       "    <tr>\n",
       "      <th>388</th>\n",
       "      <td>Sometimes while they were in a lesson, the wol...</td>\n",
       "      <td>0.0</td>\n",
       "      <td>[sometimes, while, they, were, in, a, lesson, ...</td>\n",
       "    </tr>\n",
       "    <tr>\n",
       "      <th>389</th>\n",
       "      <td>I remained involved</td>\n",
       "      <td>1.0</td>\n",
       "      <td>[i, remained, involved]</td>\n",
       "    </tr>\n",
       "  </tbody>\n",
       "</table>\n",
       "<p>390 rows × 3 columns</p>\n",
       "</div>"
      ],
      "text/plain": [
       "                                              sentence  score  \\\n",
       "0    For Nik, he only wants to silence the cacophon...    0.0   \n",
       "1                            \"I can play this two ways    0.0   \n",
       "2    Mild, because it isn't conclusive, and doesn't...   -1.0   \n",
       "3    You can also get some more information about t...    0.0   \n",
       "4    Soon, Hero, who has never had friends, is thru...    0.0   \n",
       "..                                                 ...    ...   \n",
       "385  August is torn by his actions but he absolutel...    0.0   \n",
       "386  Heroine Elise Benton is witty in the present d...    0.0   \n",
       "387               I am glad there will be a part three    1.0   \n",
       "388  Sometimes while they were in a lesson, the wol...    0.0   \n",
       "389                                I remained involved    1.0   \n",
       "\n",
       "                                   tokenized_lowercase  \n",
       "0    [for, nik, ,, he, only, wants, to, silence, th...  \n",
       "1                   [\", i, can, play, this, two, ways]  \n",
       "2    [mild, ,, because, it, isn't, conclusive, ,, a...  \n",
       "3    [you, can, also, get, some, more, information,...  \n",
       "4    [soon, ,, hero, ,, who, has, never, had, frien...  \n",
       "..                                                 ...  \n",
       "385  [august, is, torn, by, his, actions, but, he, ...  \n",
       "386  [heroine, elise, benton, is, witty, in, the, p...  \n",
       "387     [i, am, glad, there, will, be, a, part, three]  \n",
       "388  [sometimes, while, they, were, in, a, lesson, ...  \n",
       "389                            [i, remained, involved]  \n",
       "\n",
       "[390 rows x 3 columns]"
      ]
     },
     "execution_count": 25,
     "metadata": {},
     "output_type": "execute_result"
    }
   ],
   "source": [
    "#tokenizing column sentence to be able to count the word \"love\"\n",
    "tt_lower_case = TweetTokenizer(preserve_case=False)\n",
    "\n",
    "# Apply tokenizer to a Pandas Dataframe, and store the results in a new column with a specific name\n",
    "target_data['tokenized_lowercase'] = target_data['sentence'].apply(tt_lower_case.tokenize)\n",
    "target_data = target_data.copy()\n",
    "target_data"
   ]
  },
  {
   "cell_type": "markdown",
   "metadata": {
    "id": "36WMsn_kNfhV"
   },
   "source": [
    "## Generating the contigency matrix"
   ]
  },
  {
   "cell_type": "code",
   "execution_count": 26,
   "metadata": {
    "id": "czNC-aw_abQz"
   },
   "outputs": [],
   "source": [
    "# create a dataframe with only the 1 (Positive sentiment) rows\n",
    "\n",
    "pos = target_data.loc[target_data['score'] == 1]\n",
    "\n",
    "\n",
    "# Select only the values in that column\n",
    "pos_messages_tokenized = pos['tokenized_lowercase']\n",
    "pos_messages_tokenized_values = pos_messages_tokenized.values.tolist()\n",
    "\n",
    "\n",
    "# Check if there are messages that contains the token 'love'\n",
    "pos_w_word = ['TRUE' for msg in pos_messages_tokenized_values if 'love' in msg]\n",
    "\n",
    "# Check messages that do not contain the token 'love' - store the outcome in a list\n",
    "\n",
    "pos_not_word = ['TRUE' for msg in pos_messages_tokenized_values if 'love' not in msg]"
   ]
  },
  {
   "cell_type": "code",
   "execution_count": 27,
   "metadata": {
    "id": "V0EvSDJPabQz"
   },
   "outputs": [],
   "source": [
    "# Create a dataframe with only the -1 (Negative sentence) rows\n",
    "\n",
    "not_pos = target_data.loc[target_data['score'] == -1]\n",
    "\n",
    "\n",
    "# Select only the values in that column\n",
    "not_pos_messages_tokenized = not_pos['tokenized_lowercase']\n",
    "not_pos_messages_tokenized_values = not_pos_messages_tokenized.values.tolist()\n",
    "\n",
    "\n",
    "# Check if there are messages that contains the token 'love'\n",
    "not_pos_w_word = ['TRUE' for msg in not_pos_messages_tokenized if 'love' in msg]\n",
    "\n",
    "# Check messages that do not contain the token 'love'\n",
    "not_pos_not_word = ['TRUE' for msg in not_pos_messages_tokenized_values if 'love' not in msg]"
   ]
  },
  {
   "cell_type": "code",
   "execution_count": 28,
   "metadata": {
    "colab": {
     "base_uri": "https://localhost:8080/"
    },
    "id": "dH_NB9J3abQ0",
    "outputId": "dc7a955d-8552-4bb5-97a1-b3322937a858"
   },
   "outputs": [
    {
     "name": "stdout",
     "output_type": "stream",
     "text": [
      "The values:\n",
      "[10, 3, 170, 59]\n",
      "The contingency matrix\n",
      "[[ 10   3]\n",
      " [170  59]]\n"
     ]
    }
   ],
   "source": [
    "#the data stored in the 4 different lists\n",
    "\n",
    "data4contingency = [] #counting how many elements each list contains\n",
    "\n",
    "#the observed frequencies are stored in 4 different lists\n",
    "data4contingency.append(len(pos_w_word))     #positive sentiment with word \"love\"\n",
    "data4contingency.append(len(not_pos_w_word)) #positive sentiment without word \"love\"\n",
    "data4contingency.append(len(pos_not_word))   #negative sentiment with word \"love\"\n",
    "data4contingency.append(len(not_pos_not_word))   #negative sentiment without word \"love\"\n",
    "\n",
    "#printing the counts of each list\n",
    "print('The values:')\n",
    "print(data4contingency)\n",
    "\n",
    "# We transform the list in a contingency matrix\n",
    "data_cm = np.array(data4contingency).reshape(2,-1)\n",
    "\n",
    "print('The contingency matrix')\n",
    "print(data_cm)\n"
   ]
  },
  {
   "cell_type": "markdown",
   "metadata": {
    "id": "yYo_mpJ3Os3H"
   },
   "source": [
    "## Analyzing the probabilistic correlation using Chi Square"
   ]
  },
  {
   "cell_type": "markdown",
   "metadata": {
    "id": "nyxFTqBLO4du"
   },
   "source": [
    "There is no correlation between sentences containing the word love and being a positive sentiment. It happens because the number of positive sentences without the word love is higher than the number of sentences that contains the word love."
   ]
  },
  {
   "cell_type": "code",
   "execution_count": 29,
   "metadata": {
    "colab": {
     "base_uri": "https://localhost:8080/"
    },
    "id": "xd9I-VrsabQ1",
    "jupyter": {
     "outputs_hidden": true
    },
    "outputId": "a67357c9-16af-49df-d624-025774190b2a",
    "scrolled": true
   },
   "outputs": [
    {
     "name": "stdout",
     "output_type": "stream",
     "text": [
      "0.0 1.0\n",
      "These are the expected frequencies\n",
      "[[  9.66942149   3.33057851]\n",
      " [170.33057851  58.66942149]]\n",
      "The observed differences are not statiscally significant - H1 is rejected\n"
     ]
    }
   ],
   "source": [
    "from scipy.stats import chi2 as c2 #scipy.stats library which provides us with chi2_contingency() function to implement Chi-square test.\n",
    "chi2, p_value, degree_of_freedom, expected_frequencies = chi2_contingency(data_cm)\n",
    "\n",
    "print(chi2, p_value)\n",
    "print('These are the expected frequencies')\n",
    "print(expected_frequencies)\n",
    "\n",
    "#if p_value is higher than 0.05 then we will accept the null hypothesis \n",
    "#this test is to see if there is a relation between the said variables or not\n",
    "if p_value < 0.05:\n",
    "    print(\"The observed differences are statiscally significant - H0 is rejected\")\n",
    "else:\n",
    "    print(\"The observed differences are not statiscally significant - H1 is rejected\")"
   ]
  },
  {
   "cell_type": "markdown",
   "metadata": {
    "id": "vUgK0NFflLwv"
   },
   "source": [
    "## Task 1.2 "
   ]
  },
  {
   "cell_type": "markdown",
   "metadata": {
    "id": "WhsQ_taEQaSj"
   },
   "source": [
    "## Pos-tagger"
   ]
  },
  {
   "cell_type": "code",
   "execution_count": 30,
   "metadata": {
    "colab": {
     "base_uri": "https://localhost:8080/"
    },
    "id": "7u8adZISSEs8",
    "outputId": "a0cfd777-1330-4ecd-c784-70244276a0e2"
   },
   "outputs": [
    {
     "name": "stderr",
     "output_type": "stream",
     "text": [
      "[nltk_data] Downloading package punkt to\n",
      "[nltk_data]     C:\\Users\\Raya\\AppData\\Roaming\\nltk_data...\n",
      "[nltk_data]   Package punkt is already up-to-date!\n",
      "[nltk_data] Downloading package averaged_perceptron_tagger to\n",
      "[nltk_data]     C:\\Users\\Raya\\AppData\\Roaming\\nltk_data...\n",
      "[nltk_data]   Package averaged_perceptron_tagger is already up-to-\n",
      "[nltk_data]       date!\n"
     ]
    },
    {
     "data": {
      "text/plain": [
       "True"
      ]
     },
     "execution_count": 30,
     "metadata": {},
     "output_type": "execute_result"
    }
   ],
   "source": [
    "# Importing libs and setting the nltk package\n",
    "from nltk import pos_tag\n",
    "from nltk.tokenize import sent_tokenize\n",
    "nltk.download('punkt')\n",
    "nltk.download('averaged_perceptron_tagger')"
   ]
  },
  {
   "cell_type": "code",
   "execution_count": 31,
   "metadata": {
    "id": "aQpIhR3RabQ4",
    "jupyter": {
     "outputs_hidden": true
    }
   },
   "outputs": [],
   "source": [
    "# Getting the dataset sentences and pos tagging them\n",
    "#tokens is the list of words and pos_tag() returns a list of tuples with each\n",
    "sentences_list = dataset['sentence'].tolist()\n",
    "pos_tagged = []\n",
    "for text in sentences_list:\n",
    "  sentence = sent_tokenize(text)\n",
    "  for token in sentence:\n",
    "    words = nltk.word_tokenize(token)\n",
    "    tagged = nltk.pos_tag(words)\n",
    "  pos_tagged.append(tagged)"
   ]
  },
  {
   "cell_type": "code",
   "execution_count": 32,
   "metadata": {
    "colab": {
     "base_uri": "https://localhost:8080/",
     "height": 424
    },
    "id": "tiXk8gSATPX1",
    "outputId": "cc5d1954-727a-4903-cd53-7ec5c28fc902"
   },
   "outputs": [
    {
     "data": {
      "text/html": [
       "<div>\n",
       "<style scoped>\n",
       "    .dataframe tbody tr th:only-of-type {\n",
       "        vertical-align: middle;\n",
       "    }\n",
       "\n",
       "    .dataframe tbody tr th {\n",
       "        vertical-align: top;\n",
       "    }\n",
       "\n",
       "    .dataframe thead th {\n",
       "        text-align: right;\n",
       "    }\n",
       "</style>\n",
       "<table border=\"1\" class=\"dataframe\">\n",
       "  <thead>\n",
       "    <tr style=\"text-align: right;\">\n",
       "      <th></th>\n",
       "      <th>sentence</th>\n",
       "      <th>score</th>\n",
       "      <th>nouns_frequency</th>\n",
       "      <th>adjective_frequency</th>\n",
       "    </tr>\n",
       "  </thead>\n",
       "  <tbody>\n",
       "    <tr>\n",
       "      <th>0</th>\n",
       "      <td>For Nik, he only wants to silence the cacophon...</td>\n",
       "      <td>0.0</td>\n",
       "      <td>9</td>\n",
       "      <td>1</td>\n",
       "    </tr>\n",
       "    <tr>\n",
       "      <th>1</th>\n",
       "      <td>\"I can play this two ways</td>\n",
       "      <td>0.0</td>\n",
       "      <td>1</td>\n",
       "      <td>0</td>\n",
       "    </tr>\n",
       "    <tr>\n",
       "      <th>2</th>\n",
       "      <td>Mild, because it isn't conclusive, and doesn't...</td>\n",
       "      <td>-1.0</td>\n",
       "      <td>4</td>\n",
       "      <td>1</td>\n",
       "    </tr>\n",
       "    <tr>\n",
       "      <th>3</th>\n",
       "      <td>You can also get some more information about t...</td>\n",
       "      <td>0.0</td>\n",
       "      <td>8</td>\n",
       "      <td>2</td>\n",
       "    </tr>\n",
       "    <tr>\n",
       "      <th>4</th>\n",
       "      <td>Soon, Hero, who has never had friends, is thru...</td>\n",
       "      <td>0.0</td>\n",
       "      <td>4</td>\n",
       "      <td>1</td>\n",
       "    </tr>\n",
       "    <tr>\n",
       "      <th>...</th>\n",
       "      <td>...</td>\n",
       "      <td>...</td>\n",
       "      <td>...</td>\n",
       "      <td>...</td>\n",
       "    </tr>\n",
       "    <tr>\n",
       "      <th>385</th>\n",
       "      <td>August is torn by his actions but he absolutel...</td>\n",
       "      <td>0.0</td>\n",
       "      <td>3</td>\n",
       "      <td>1</td>\n",
       "    </tr>\n",
       "    <tr>\n",
       "      <th>386</th>\n",
       "      <td>Heroine Elise Benton is witty in the present d...</td>\n",
       "      <td>0.0</td>\n",
       "      <td>7</td>\n",
       "      <td>1</td>\n",
       "    </tr>\n",
       "    <tr>\n",
       "      <th>387</th>\n",
       "      <td>I am glad there will be a part three</td>\n",
       "      <td>1.0</td>\n",
       "      <td>1</td>\n",
       "      <td>1</td>\n",
       "    </tr>\n",
       "    <tr>\n",
       "      <th>388</th>\n",
       "      <td>Sometimes while they were in a lesson, the wol...</td>\n",
       "      <td>0.0</td>\n",
       "      <td>4</td>\n",
       "      <td>0</td>\n",
       "    </tr>\n",
       "    <tr>\n",
       "      <th>389</th>\n",
       "      <td>I remained involved</td>\n",
       "      <td>1.0</td>\n",
       "      <td>0</td>\n",
       "      <td>1</td>\n",
       "    </tr>\n",
       "  </tbody>\n",
       "</table>\n",
       "<p>390 rows × 4 columns</p>\n",
       "</div>"
      ],
      "text/plain": [
       "                                              sentence  score  \\\n",
       "0    For Nik, he only wants to silence the cacophon...    0.0   \n",
       "1                            \"I can play this two ways    0.0   \n",
       "2    Mild, because it isn't conclusive, and doesn't...   -1.0   \n",
       "3    You can also get some more information about t...    0.0   \n",
       "4    Soon, Hero, who has never had friends, is thru...    0.0   \n",
       "..                                                 ...    ...   \n",
       "385  August is torn by his actions but he absolutel...    0.0   \n",
       "386  Heroine Elise Benton is witty in the present d...    0.0   \n",
       "387               I am glad there will be a part three    1.0   \n",
       "388  Sometimes while they were in a lesson, the wol...    0.0   \n",
       "389                                I remained involved    1.0   \n",
       "\n",
       "     nouns_frequency  adjective_frequency  \n",
       "0                  9                    1  \n",
       "1                  1                    0  \n",
       "2                  4                    1  \n",
       "3                  8                    2  \n",
       "4                  4                    1  \n",
       "..               ...                  ...  \n",
       "385                3                    1  \n",
       "386                7                    1  \n",
       "387                1                    1  \n",
       "388                4                    0  \n",
       "389                0                    1  \n",
       "\n",
       "[390 rows x 4 columns]"
      ]
     },
     "execution_count": 32,
     "metadata": {},
     "output_type": "execute_result"
    }
   ],
   "source": [
    "# Calculating the number of NOUNS and ADJECTIVES\n",
    "# Setting the list of NOUNS and ADJECTIVES from the following website\n",
    "# https://www.ling.upenn.edu/courses/Fall_2003/ling001/penn_treebank_pos.html\n",
    "nouns_list = [\"NN\",\"NNS\",\"NNP\",\"NNPS\"]\n",
    "adj_list = [\"JJ\",\"JJR\",\"JJS\"]\n",
    "num_nouns = []\n",
    "num_adj = []\n",
    "for sentence in pos_tagged:\n",
    "  num_nouns_msg = 0\n",
    "  num_adj_msg = 0\n",
    "  for tag in sentence:\n",
    "    if tag[1] in nouns_list:\n",
    "      num_nouns_msg += 1\n",
    "    elif tag[1] in adj_list:\n",
    "      num_adj_msg += 1\n",
    "  num_nouns.append(num_nouns_msg)\n",
    "  num_adj.append(num_adj_msg)\n",
    "\n",
    "dataset[\"nouns_frequency\"] = num_nouns\n",
    "dataset[\"adjective_frequency\"] = num_adj\n",
    "\n",
    "dataset"
   ]
  },
  {
   "cell_type": "markdown",
   "metadata": {
    "id": "XMlrXnA0Zfly"
   },
   "source": [
    "## Correlation"
   ]
  },
  {
   "cell_type": "markdown",
   "metadata": {
    "colab": {
     "base_uri": "https://localhost:8080/",
     "height": 143
    },
    "id": "HYet6FlJRS29",
    "outputId": "b272b99a-9b2e-4ac1-e996-35fcaada7461"
   },
   "source": [
    "Correlation experiment: Relation between the word \"the\" and the frequency of nouns in positive sentences. Where positive sentences that contain the word \"the\" also have more noun frequency.  "
   ]
  },
  {
   "cell_type": "code",
   "execution_count": 33,
   "metadata": {
    "colab": {
     "base_uri": "https://localhost:8080/",
     "height": 424
    },
    "id": "uaoZvr3kdAj7",
    "outputId": "d5160e47-8f59-4dca-a94b-ea5c88f4c11a"
   },
   "outputs": [
    {
     "data": {
      "text/html": [
       "<div>\n",
       "<style scoped>\n",
       "    .dataframe tbody tr th:only-of-type {\n",
       "        vertical-align: middle;\n",
       "    }\n",
       "\n",
       "    .dataframe tbody tr th {\n",
       "        vertical-align: top;\n",
       "    }\n",
       "\n",
       "    .dataframe thead th {\n",
       "        text-align: right;\n",
       "    }\n",
       "</style>\n",
       "<table border=\"1\" class=\"dataframe\">\n",
       "  <thead>\n",
       "    <tr style=\"text-align: right;\">\n",
       "      <th></th>\n",
       "      <th>sentence</th>\n",
       "      <th>score</th>\n",
       "      <th>nouns_frequency</th>\n",
       "      <th>adjective_frequency</th>\n",
       "      <th>the_count</th>\n",
       "    </tr>\n",
       "  </thead>\n",
       "  <tbody>\n",
       "    <tr>\n",
       "      <th>5</th>\n",
       "      <td>I did like Steven (or Stephen? I listened to t...</td>\n",
       "      <td>1.0</td>\n",
       "      <td>1</td>\n",
       "      <td>0</td>\n",
       "      <td>1</td>\n",
       "    </tr>\n",
       "    <tr>\n",
       "      <th>6</th>\n",
       "      <td>The plot is quick moving and the action is vio...</td>\n",
       "      <td>1.0</td>\n",
       "      <td>2</td>\n",
       "      <td>2</td>\n",
       "      <td>2</td>\n",
       "    </tr>\n",
       "    <tr>\n",
       "      <th>7</th>\n",
       "      <td>Loved everything about this book</td>\n",
       "      <td>1.0</td>\n",
       "      <td>2</td>\n",
       "      <td>0</td>\n",
       "      <td>0</td>\n",
       "    </tr>\n",
       "    <tr>\n",
       "      <th>9</th>\n",
       "      <td>Great, quick read</td>\n",
       "      <td>1.0</td>\n",
       "      <td>2</td>\n",
       "      <td>1</td>\n",
       "      <td>0</td>\n",
       "    </tr>\n",
       "    <tr>\n",
       "      <th>10</th>\n",
       "      <td>Although there isn't character development, as...</td>\n",
       "      <td>1.0</td>\n",
       "      <td>8</td>\n",
       "      <td>3</td>\n",
       "      <td>3</td>\n",
       "    </tr>\n",
       "    <tr>\n",
       "      <th>...</th>\n",
       "      <td>...</td>\n",
       "      <td>...</td>\n",
       "      <td>...</td>\n",
       "      <td>...</td>\n",
       "      <td>...</td>\n",
       "    </tr>\n",
       "    <tr>\n",
       "      <th>374</th>\n",
       "      <td>Good little read, quirky meets mystery and the...</td>\n",
       "      <td>1.0</td>\n",
       "      <td>3</td>\n",
       "      <td>3</td>\n",
       "      <td>2</td>\n",
       "    </tr>\n",
       "    <tr>\n",
       "      <th>380</th>\n",
       "      <td>Coming off of Paula Hawkins's new release, I c...</td>\n",
       "      <td>1.0</td>\n",
       "      <td>8</td>\n",
       "      <td>4</td>\n",
       "      <td>0</td>\n",
       "    </tr>\n",
       "    <tr>\n",
       "      <th>382</th>\n",
       "      <td>He's able to take important themes and write a...</td>\n",
       "      <td>1.0</td>\n",
       "      <td>2</td>\n",
       "      <td>3</td>\n",
       "      <td>2</td>\n",
       "    </tr>\n",
       "    <tr>\n",
       "      <th>387</th>\n",
       "      <td>I am glad there will be a part three</td>\n",
       "      <td>1.0</td>\n",
       "      <td>1</td>\n",
       "      <td>1</td>\n",
       "      <td>1</td>\n",
       "    </tr>\n",
       "    <tr>\n",
       "      <th>389</th>\n",
       "      <td>I remained involved</td>\n",
       "      <td>1.0</td>\n",
       "      <td>0</td>\n",
       "      <td>1</td>\n",
       "      <td>0</td>\n",
       "    </tr>\n",
       "  </tbody>\n",
       "</table>\n",
       "<p>180 rows × 5 columns</p>\n",
       "</div>"
      ],
      "text/plain": [
       "                                              sentence  score  \\\n",
       "5    I did like Steven (or Stephen? I listened to t...    1.0   \n",
       "6    The plot is quick moving and the action is vio...    1.0   \n",
       "7                     Loved everything about this book    1.0   \n",
       "9                                    Great, quick read    1.0   \n",
       "10   Although there isn't character development, as...    1.0   \n",
       "..                                                 ...    ...   \n",
       "374  Good little read, quirky meets mystery and the...    1.0   \n",
       "380  Coming off of Paula Hawkins's new release, I c...    1.0   \n",
       "382  He's able to take important themes and write a...    1.0   \n",
       "387               I am glad there will be a part three    1.0   \n",
       "389                                I remained involved    1.0   \n",
       "\n",
       "     nouns_frequency  adjective_frequency  the_count  \n",
       "5                  1                    0          1  \n",
       "6                  2                    2          2  \n",
       "7                  2                    0          0  \n",
       "9                  2                    1          0  \n",
       "10                 8                    3          3  \n",
       "..               ...                  ...        ...  \n",
       "374                3                    3          2  \n",
       "380                8                    4          0  \n",
       "382                2                    3          2  \n",
       "387                1                    1          1  \n",
       "389                0                    1          0  \n",
       "\n",
       "[180 rows x 5 columns]"
      ]
     },
     "execution_count": 33,
     "metadata": {},
     "output_type": "execute_result"
    }
   ],
   "source": [
    "#implementing the \"the\" counter for each sentence \n",
    "\n",
    "corr_df = dataset[(dataset.score == 1)].copy() #using the positive sentiment sentences \n",
    "the_list = []\n",
    "for sentence in corr_df['sentence']:\n",
    "  sentence = sentence.lower()\n",
    "  the_count = 0 # Getting the number of 'the' in each sentence\n",
    "  if 'the' in sentence:\n",
    "    the_count = sentence.count(\"the\")\n",
    "  the_list.append(the_count)\n",
    "\n",
    "corr_df[\"the_count\"] = the_list\n",
    "corr_df"
   ]
  },
  {
   "cell_type": "code",
   "execution_count": 34,
   "metadata": {
    "colab": {
     "base_uri": "https://localhost:8080/",
     "height": 280
    },
    "id": "9W47llG9ardE",
    "outputId": "c55c65d5-b9b7-4550-9f7f-3d1bf55a7f1f"
   },
   "outputs": [
    {
     "data": {
      "image/png": "[encoded data removed]",
      "text/plain": [
       "<Figure size 432x288 with 1 Axes>"
      ]
     },
     "metadata": {
      "needs_background": "light"
     },
     "output_type": "display_data"
    }
   ],
   "source": [
    "#Creating a scatterplot for the correlation \n",
    "import matplotlib.pyplot as plt\n",
    "import seaborn as sns\n",
    "%matplotlib inline\n",
    "# Scatter plot\n",
    "plt.scatter(corr_df['the_count'],corr_df['nouns_frequency'], c=\"orange\")\n",
    "plt.xlabel(\"the_count\") # plot on the X axis\n",
    "plt.ylabel(\"nouns_frequency\") # plot on the Y axis\n",
    "#draw the correlation line\n",
    "plot_corr_sns = sns.regplot(x=\"the_count\", y=\"nouns_frequency\", color=\"r\", data=corr_df.drop(['sentence', 'score', 'adjective_frequency'], axis=1))\n",
    "plt.show() "
   ]
  },
  {
   "cell_type": "code",
   "execution_count": 35,
   "metadata": {
    "colab": {
     "base_uri": "https://localhost:8080/",
     "height": 112
    },
    "id": "N_xMLuACbpGm",
    "outputId": "f6cc53ef-d597-42f6-9d7f-70aa799215af"
   },
   "outputs": [
    {
     "data": {
      "text/html": [
       "<div>\n",
       "<style scoped>\n",
       "    .dataframe tbody tr th:only-of-type {\n",
       "        vertical-align: middle;\n",
       "    }\n",
       "\n",
       "    .dataframe tbody tr th {\n",
       "        vertical-align: top;\n",
       "    }\n",
       "\n",
       "    .dataframe thead th {\n",
       "        text-align: right;\n",
       "    }\n",
       "</style>\n",
       "<table border=\"1\" class=\"dataframe\">\n",
       "  <thead>\n",
       "    <tr style=\"text-align: right;\">\n",
       "      <th></th>\n",
       "      <th>nouns_frequency</th>\n",
       "      <th>the_count</th>\n",
       "    </tr>\n",
       "  </thead>\n",
       "  <tbody>\n",
       "    <tr>\n",
       "      <th>nouns_frequency</th>\n",
       "      <td>1.000000</td>\n",
       "      <td>0.502869</td>\n",
       "    </tr>\n",
       "    <tr>\n",
       "      <th>the_count</th>\n",
       "      <td>0.502869</td>\n",
       "      <td>1.000000</td>\n",
       "    </tr>\n",
       "  </tbody>\n",
       "</table>\n",
       "</div>"
      ],
      "text/plain": [
       "                 nouns_frequency  the_count\n",
       "nouns_frequency         1.000000   0.502869\n",
       "the_count               0.502869   1.000000"
      ]
     },
     "execution_count": 35,
     "metadata": {},
     "output_type": "execute_result"
    }
   ],
   "source": [
    "#the result is a positive linear relationship \n",
    "# Getting the correlation matrix for Pearson method\n",
    "pearson = corr_df.drop(['score', 'adjective_frequency'], axis=1).corr(method=\"pearson\")\n",
    "pearson"
   ]
  },
  {
   "cell_type": "code",
   "execution_count": 36,
   "metadata": {
    "id": "wtD4raFElLwy"
   },
   "outputs": [],
   "source": [
    "#The pearson coefficient is 0.50 and it means that the variables are monotonically increasing \n",
    "#because linear relationships are always monotonic. \n",
    "#This relationship is,linear monotonic moderate strength positive relationship. \n",
    "#When the count of the word \"the\" increases the noun frequency increases\n",
    "#thereofre the Pearson method is best used for this correlation. "
   ]
  },
  {
   "cell_type": "code",
   "execution_count": null,
   "metadata": {
    "id": "By8PqMVKlLwy"
   },
   "outputs": [],
   "source": []
  }
 ],
 "metadata": {
  "colab": {
   "collapsed_sections": [],
   "name": "assignment_final .ipynb",
   "provenance": []
  },
  "kernelspec": {
   "display_name": "Python 3",
   "language": "python",
   "name": "python3"
  },
  "language_info": {
   "codemirror_mode": {
    "name": "ipython",
    "version": 3
   },
   "file_extension": ".py",
   "mimetype": "text/x-python",
   "name": "python",
   "nbconvert_exporter": "python",
   "pygments_lexer": "ipython3",
   "version": "3.8.8"
  }
 },
 "nbformat": 4,
 "nbformat_minor": 1
}
